{
  "nbformat": 4,
  "nbformat_minor": 0,
  "metadata": {
    "colab": {
      "provenance": []
    },
    "kernelspec": {
      "name": "python3",
      "display_name": "Python 3"
    },
    "language_info": {
      "name": "python"
    }
  },
  "cells": [
    {
      "cell_type": "code",
      "execution_count": 46,
      "metadata": {
        "id": "MpNIrXgYA2Xl"
      },
      "outputs": [],
      "source": [
        "import numpy as np\n",
        "import pandas as pd\n",
        "import matplotlib.pyplot as plt"
      ]
    },
    {
      "cell_type": "code",
      "source": [
        "dataset = pd.read_csv('Housing DB.csv')\n",
        "x = dataset.iloc[:, :-1].values\n",
        "y = dataset.iloc[:, -1].values"
      ],
      "metadata": {
        "id": "wvKy6xxpBl9g"
      },
      "execution_count": 47,
      "outputs": []
    },
    {
      "cell_type": "code",
      "source": [
        "from sklearn.model_selection import train_test_split\n",
        "x_train, x_test,y_train, y_test = train_test_split(x, y, test_size=0.2, random_state=42)"
      ],
      "metadata": {
        "id": "DZxtsyHMCAS4"
      },
      "execution_count": 48,
      "outputs": []
    },
    {
      "cell_type": "code",
      "source": [
        "regressor = RandomForestRegressor(\n",
        "    n_estimators=500,\n",
        "    max_depth=15,\n",
        "    min_samples_split=2,\n",
        "    min_samples_leaf=1,\n",
        "    random_state=42\n",
        ")"
      ],
      "metadata": {
        "id": "PpeV1JfzOVFB"
      },
      "execution_count": 49,
      "outputs": []
    },
    {
      "cell_type": "code",
      "source": [
        "print(x_train)"
      ],
      "metadata": {
        "colab": {
          "base_uri": "https://localhost:8080/"
        },
        "id": "qotDHc-UCfvL",
        "outputId": "e39696d5-c3d7-489b-efda-ff51bde8492d"
      },
      "execution_count": 50,
      "outputs": [
        {
          "output_type": "stream",
          "name": "stdout",
          "text": [
            "[[1.50234e+01 0.00000e+00 1.81000e+01 ... 2.02000e+01 3.49480e+02\n",
            "  2.49100e+01]\n",
            " [6.27390e-01 0.00000e+00 8.14000e+00 ... 2.10000e+01 3.95620e+02\n",
            "  8.47000e+00]\n",
            " [3.46600e-02 3.50000e+01 6.06000e+00 ... 1.69000e+01 3.62250e+02\n",
            "  7.83000e+00]\n",
            " ...\n",
            " [1.50100e-02 8.00000e+01 2.01000e+00 ... 1.70000e+01 3.90940e+02\n",
            "  5.99000e+00]\n",
            " [1.11604e+01 0.00000e+00 1.81000e+01 ... 2.02000e+01 1.09850e+02\n",
            "  2.32700e+01]\n",
            " [2.28760e-01 0.00000e+00 8.56000e+00 ... 2.09000e+01 7.08000e+01\n",
            "  1.06300e+01]]\n"
          ]
        }
      ]
    },
    {
      "cell_type": "code",
      "source": [
        "print(y_train)"
      ],
      "metadata": {
        "colab": {
          "base_uri": "https://localhost:8080/"
        },
        "id": "c36A3vbwC0K9",
        "outputId": "d4497f5a-2529-43d6-cde4-fd5f492d511f"
      },
      "execution_count": 51,
      "outputs": [
        {
          "output_type": "stream",
          "name": "stdout",
          "text": [
            "[12.  19.9 19.4 13.4 18.2 24.6 21.1 24.7  8.7 27.5 20.7 36.2 31.6 11.7\n",
            " 39.8 13.9 21.8 23.7 17.6 24.4  8.8 19.2 25.3 20.4 23.1 37.9 15.6 45.4\n",
            " 15.7 22.6 14.5 18.7 17.8 16.1 20.6 31.6 29.1 15.6 17.5 22.5 19.4 19.3\n",
            "  8.5 20.6 17.  17.1 14.5 50.  14.3 12.6 28.7 21.2 19.3 23.1 19.1 25.\n",
            " 33.4  5.  29.6 18.7 21.7 23.1 22.8 21.  48.8 14.6 16.6 27.1 20.1 19.8\n",
            " 21.  41.3 23.2 20.4 18.5 29.4 36.4 24.4 11.8 13.8 12.3 17.8 33.1 26.7\n",
            " 13.4 14.4 50.  22.  19.9 23.8 17.5 12.7  5.6 31.1 26.2 19.4 16.7 13.8\n",
            " 22.9 15.3 27.5 36.1 22.9 24.5 25.  50.  34.9 31.7 24.1 22.1 14.1 42.8\n",
            " 19.3 32.2 26.4 21.8 21.7  8.3 46.7 43.1 31.5 10.5 16.7 20.  33.3 17.8\n",
            " 50.  20.5 23.2 13.1 19.6 22.8 28.7 30.7 22.9 21.9 23.9 32.7 24.3 21.5\n",
            " 24.6  8.5 26.4 23.1 15.   8.8 19.3 23.9 24.7 19.8 23.8 13.3 29.  27.1\n",
            " 34.6 13.3 15.6 12.5 14.6 11.  24.8 17.3  8.1 21.4 15.6 23.3 32.  38.7\n",
            " 30.1 20.5 32.5 42.3 24.3 20.6 22.  18.2 15.   6.3 20.1 21.4 28.4 30.1\n",
            " 20.8 23.  14.3 11.7 37.3 17.1 10.4 23.  22.7 20.3 21.7 50.   8.4 18.8\n",
            " 37.2 16.1 16.5 22.2 20.6 13.5 48.3 23.8 22.7 17.4 30.3 36.  41.7 18.3\n",
            " 22.  18.6 44.8 11.9 18.7 16.2 22.   7.2 20.4 13.8 13.  18.4 23.1 21.2\n",
            " 23.1 23.5 50.  26.6 22.2 50.   8.3 23.3 21.7 18.9 18.4 17.4 13.4 12.1\n",
            " 26.6 21.7 28.4 20.5 22.  13.9 11.3 29.9 26.6 10.5 23.2 24.4 46.  21.9\n",
            "  7.5 36.2 44.  17.8 27.5 37.6 14.1 28.1 10.2 19.1 43.8 27.9 25.  16.\n",
            " 16.6 13.2 50.  22.2 32.9 15.2 14.8 13.8 24.3 33.8 22.3 50.   9.5 13.3\n",
            " 22.2 18.1 18.  25.  16.5 23.  20.1 33.  24.8 18.2 13.1 34.9 10.2 19.9\n",
            " 27.9 23.3 35.1 12.8 22.  18.5 25.1 22.5 22.4 28.6 19.5 24.8 24.5 21.4\n",
            " 33.1 22.9 20.7 24.1 50.  24.7 28.7  7.2 37.  20.3 30.1 19.5 23.4 11.5\n",
            " 21.6 14.9 15.2 19.4  8.4 28.  22.6 13.5 14.5 31.  10.9 21.9 22.  19.\n",
            " 21.4 25.  17.5 36.5 20.1 20.4 16.2 23.6  7.4 35.2 50.  19.3 21.2 15.6\n",
            " 33.4 19.1 21.  23.7 18.9 16.8 19.7 17.7 22.6 11.8 34.9 20.6 20.2 32.\n",
            " 22.3 23.3 14.4 31.2 24.  29.6 19.6 21.6 20.  27.  33.2 15.4 30.5  7.2\n",
            " 23.9 16.3 23.9 50.  22.8 15.4 19.2 19.6 22.6 33.2 50.  22.2 14.9 19.8\n",
            " 23.7 19.  20.3 11.9 13.6 29.8 21.7 19.5 21.1 24.5 13.4 18.6]\n"
          ]
        }
      ]
    },
    {
      "cell_type": "code",
      "source": [
        "print(x_test)"
      ],
      "metadata": {
        "colab": {
          "base_uri": "https://localhost:8080/"
        },
        "id": "R4_pCJ8gDRHi",
        "outputId": "31eda96f-dc64-41f8-9883-9cccd6182866"
      },
      "execution_count": 52,
      "outputs": [
        {
          "output_type": "stream",
          "name": "stdout",
          "text": [
            "[[9.17800e-02 0.00000e+00 4.05000e+00 ... 1.66000e+01 3.95500e+02\n",
            "  9.04000e+00]\n",
            " [5.64400e-02 4.00000e+01 6.41000e+00 ... 1.76000e+01 3.96900e+02\n",
            "  3.53000e+00]\n",
            " [1.05740e-01 0.00000e+00 2.77400e+01 ... 2.01000e+01 3.90110e+02\n",
            "  1.80700e+01]\n",
            " ...\n",
            " [1.40507e+01 0.00000e+00 1.81000e+01 ... 2.02000e+01 3.50500e+01\n",
            "  2.12200e+01]\n",
            " [5.18800e-02 0.00000e+00 4.49000e+00 ... 1.85000e+01 3.95990e+02\n",
            "  1.28600e+01]\n",
            " [9.51200e-02 0.00000e+00 1.28300e+01 ... 1.87000e+01 3.83230e+02\n",
            "  8.94000e+00]]\n"
          ]
        }
      ]
    },
    {
      "cell_type": "code",
      "source": [
        "print(y_test)"
      ],
      "metadata": {
        "colab": {
          "base_uri": "https://localhost:8080/"
        },
        "id": "qaFJVdFfDaH1",
        "outputId": "b8bb7aa1-2d0e-4e0c-e6ae-c8adac7a6dd8"
      },
      "execution_count": 53,
      "outputs": [
        {
          "output_type": "stream",
          "name": "stdout",
          "text": [
            "[23.6 32.4 13.6 22.8 16.1 20.  17.8 14.  19.6 16.8 21.5 18.9  7.  21.2\n",
            " 18.5 29.8 18.8 10.2 50.  14.1 25.2 29.1 12.7 22.4 14.2 13.8 20.3 14.9\n",
            " 21.7 18.3 23.1 23.8 15.  20.8 19.1 19.4 34.7 19.5 24.4 23.4 19.7 28.2\n",
            " 50.  17.4 22.6 15.1 13.1 24.2 19.9 24.  18.9 35.4 15.2 26.5 43.5 21.2\n",
            " 18.4 28.5 23.9 18.5 25.  35.4 31.5 20.2 24.1 20.  13.1 24.8 30.8 12.7\n",
            " 20.  23.7 10.8 20.6 20.8  5.  20.1 48.5 10.9  7.  20.9 17.2 20.9  9.7\n",
            " 19.4 29.  16.4 25.  25.  17.1 23.2 10.4 19.6 17.2 27.5 23.  50.  17.9\n",
            "  9.6 17.2 22.5 21.4]\n"
          ]
        }
      ]
    },
    {
      "cell_type": "code",
      "source": [
        "from sklearn.preprocessing import StandardScaler\n",
        "sc =  StandardScaler()\n",
        "x_train = sc.fit_transform(x_train)\n",
        "x_test = sc.transform(x_test)"
      ],
      "metadata": {
        "id": "H1kpFzzCDj_u"
      },
      "execution_count": 54,
      "outputs": []
    },
    {
      "cell_type": "code",
      "source": [
        "print(x_train)"
      ],
      "metadata": {
        "colab": {
          "base_uri": "https://localhost:8080/"
        },
        "id": "0cbnCghYDnI2",
        "outputId": "a805456b-0c16-4674-cc25-1ec345886fb8"
      },
      "execution_count": 55,
      "outputs": [
        {
          "output_type": "stream",
          "name": "stdout",
          "text": [
            "[[ 1.28770177 -0.50032012  1.03323679 ...  0.84534281 -0.07433689\n",
            "   1.75350503]\n",
            " [-0.33638447 -0.50032012 -0.41315956 ...  1.20474139  0.4301838\n",
            "  -0.5614742 ]\n",
            " [-0.40325332  1.01327135 -0.71521823 ... -0.63717631  0.06529747\n",
            "  -0.65159505]\n",
            " ...\n",
            " [-0.40547014  2.95931752 -1.30336132 ... -0.59225149  0.37901005\n",
            "  -0.91069248]\n",
            " [ 0.85189733 -0.50032012  1.03323679 ...  0.84534281 -2.69458597\n",
            "   1.52257036]\n",
            " [-0.38135592 -0.50032012 -0.35216694 ...  1.15981657 -3.12158061\n",
            "  -0.25731635]]\n"
          ]
        }
      ]
    },
    {
      "cell_type": "code",
      "source": [
        "print(x_test)"
      ],
      "metadata": {
        "colab": {
          "base_uri": "https://localhost:8080/"
        },
        "id": "Z0VqxX5wDp24",
        "outputId": "4e71859c-3fb4-4425-8c2d-ea7102561823"
      },
      "execution_count": 56,
      "outputs": [
        {
          "output_type": "stream",
          "name": "stdout",
          "text": [
            "[[-0.39680933 -0.50032012 -1.00711147 ... -0.77195078  0.42887165\n",
            "  -0.48121032]\n",
            " [-0.40079621  1.2294987  -0.66439105 ... -0.32270256  0.44418004\n",
            "  -1.25709448]\n",
            " [-0.39523443 -0.50032012  2.43316256 ...  0.80041799  0.36993437\n",
            "   0.79033849]\n",
            " ...\n",
            " [ 1.1779666  -0.50032012  1.03323679 ...  0.84534281 -3.5124912\n",
            "   1.23390203]\n",
            " [-0.40131065 -0.50032012 -0.94321444 ...  0.08162084  0.43422959\n",
            "   0.05669848]\n",
            " [-0.39643252 -0.50032012  0.26792466 ...  0.17147048  0.29470458\n",
            "  -0.49529171]]\n"
          ]
        }
      ]
    },
    {
      "cell_type": "code",
      "source": [
        "def model_complexity(model):\n",
        "    from sklearn.ensemble import RandomForestClassifier\n",
        "    if isinstance(model, RandomForestClassifier):\n",
        "        depths = [est.get_depth() for est in model.estimators_]\n",
        "        return f\"{model.n_estimators} trees, avg depth = {np.mean(depths):.1f}\""
      ],
      "metadata": {
        "id": "RDTI_LxMD2hf"
      },
      "execution_count": 57,
      "outputs": []
    },
    {
      "cell_type": "code",
      "source": [
        "from sklearn.ensemble import RandomForestRegressor\n",
        "\n",
        "regressor = RandomForestRegressor(n_estimators=100, random_state=0)\n",
        "regressor.fit(x_train, y_train)\n",
        "\n",
        "# Predictions\n",
        "y_pred = regressor.predict(x_test)\n",
        "\n",
        "# Evaluation\n",
        "from sklearn.metrics import mean_absolute_error, r2_score\n",
        "print(\"MAE:\", mean_absolute_error(y_test, y_pred))\n",
        "print(\"R² Score:\", r2_score(y_test, y_pred))\n"
      ],
      "metadata": {
        "colab": {
          "base_uri": "https://localhost:8080/"
        },
        "id": "F2dTxfTzEAxV",
        "outputId": "11410c27-9760-4973-c120-30236f8e366a"
      },
      "execution_count": 58,
      "outputs": [
        {
          "output_type": "stream",
          "name": "stdout",
          "text": [
            "MAE: 2.129745098039215\n",
            "R² Score: 0.8734991968120989\n"
          ]
        }
      ]
    },
    {
      "cell_type": "code",
      "source": [
        "# The scaler was fitted on 13 features, so we need to provide 13 features for prediction\n",
        "# I'll use the provided values for the first two features and the mean of the other features from the training data\n",
        "mean_features = x_train.mean(axis=0)\n",
        "input_features = np.array([[21.2, 1000] + mean_features[2:].tolist()])\n",
        "\n",
        "print(regressor.predict(sc.transform(input_features)))"
      ],
      "metadata": {
        "colab": {
          "base_uri": "https://localhost:8080/"
        },
        "id": "TfMR5y3JEn_t",
        "outputId": "4533005c-bd7b-4812-bfff-4764bd868f4c"
      },
      "execution_count": 59,
      "outputs": [
        {
          "output_type": "stream",
          "name": "stdout",
          "text": [
            "[38.613]\n"
          ]
        }
      ]
    },
    {
      "cell_type": "code",
      "source": [
        "import pandas as pd\n",
        "import numpy as np\n",
        "\n",
        "# Load your housing data\n",
        "df = pd.read_csv('Housing DB.csv') # Corrected filename\n",
        "\n",
        "# Find the median value and 3 samples closest to the median\n",
        "median = df['MEDV'].median()\n",
        "closest_idx = np.abs(df['MEDV'] - median).argsort()[:3]\n",
        "median_samples = df.iloc[closest_idx]\n",
        "\n",
        "# Drop the target column to get only features\n",
        "X_median3 = median_samples.drop(columns=['MEDV'])\n",
        "\n",
        "# Scale with the same scaler used in training (assuming sc is your scaler)\n",
        "X_median3_scaled = sc.transform(X_median3.values)\n",
        "\n",
        "# Predict with your trained regressor\n",
        "predictions = regressor.predict(X_median3_scaled)\n",
        "\n",
        "print(\"Input features for 3 median-price samples:\")\n",
        "print(X_median3)\n",
        "print(\"\\nPredictions for these samples:\")\n",
        "print(predictions)"
      ],
      "metadata": {
        "colab": {
          "base_uri": "https://localhost:8080/"
        },
        "id": "5Y5He658HuHC",
        "outputId": "d4859bf8-82d1-4e5e-fd3e-4aa12996360a"
      },
      "execution_count": 60,
      "outputs": [
        {
          "output_type": "stream",
          "name": "stdout",
          "text": [
            "Input features for 3 median-price samples:\n",
            "        CRIM   ZN  INDUS  CHAS    NOX     RM   AGE     DIS  RAD  TAX  PTRATIO  \\\n",
            "44   0.12269  0.0   6.91     0  0.448  6.069  40.0  5.7209    3  233     17.9   \n",
            "78   0.05646  0.0  12.83     0  0.437  6.232  53.7  5.0141    5  398     18.7   \n",
            "116  0.13158  0.0  10.01     0  0.547  6.176  72.5  2.7301    6  432     17.8   \n",
            "\n",
            "          B  LSTAT  \n",
            "44   389.39   9.55  \n",
            "78   386.40  12.34  \n",
            "116  393.30  12.04  \n",
            "\n",
            "Predictions for these samples:\n",
            "[21.335 21.574 20.956]\n"
          ]
        }
      ]
    },
    {
      "cell_type": "code",
      "source": [
        "y_pred = classifier.predict(x_test)\n",
        "print(np.concatenate((y_pred.reshape(len(y_pred), 1), y_test.reshape(len(y_test),1)), 1))"
      ],
      "metadata": {
        "colab": {
          "base_uri": "https://localhost:8080/"
        },
        "id": "kNtK6v4JKPVi",
        "outputId": "051d6f26-2bac-4707-ae44-f130b6068573"
      },
      "execution_count": 61,
      "outputs": [
        {
          "output_type": "stream",
          "name": "stdout",
          "text": [
            "[[22.99 23.6 ]\n",
            " [31.55 32.4 ]\n",
            " [13.78 13.6 ]\n",
            " [23.32 22.8 ]\n",
            " [16.31 16.1 ]\n",
            " [19.22 20.  ]\n",
            " [18.96 17.8 ]\n",
            " [14.56 14.  ]\n",
            " [20.77 19.6 ]\n",
            " [18.26 16.8 ]\n",
            " [19.74 21.5 ]\n",
            " [19.93 18.9 ]\n",
            " [ 8.5   7.  ]\n",
            " [20.63 21.2 ]\n",
            " [18.29 18.5 ]\n",
            " [28.86 29.8 ]\n",
            " [18.2  18.8 ]\n",
            " [ 9.32 10.2 ]\n",
            " [46.8  50.  ]\n",
            " [14.53 14.1 ]\n",
            " [29.5  25.2 ]\n",
            " [24.3  29.1 ]\n",
            " [14.21 12.7 ]\n",
            " [23.22 22.4 ]\n",
            " [14.62 14.2 ]\n",
            " [15.32 13.8 ]\n",
            " [20.61 20.3 ]\n",
            " [14.62 14.9 ]\n",
            " [20.62 21.7 ]\n",
            " [18.57 18.3 ]\n",
            " [22.52 23.1 ]\n",
            " [23.35 23.8 ]\n",
            " [26.93 15.  ]\n",
            " [20.22 20.8 ]\n",
            " [16.5  19.1 ]\n",
            " [15.7  19.4 ]\n",
            " [35.54 34.7 ]\n",
            " [23.97 19.5 ]\n",
            " [20.68 24.4 ]\n",
            " [23.59 23.4 ]\n",
            " [18.4  19.7 ]\n",
            " [30.93 28.2 ]\n",
            " [46.94 50.  ]\n",
            " [19.04 17.4 ]\n",
            " [22.68 22.6 ]\n",
            " [13.83 15.1 ]\n",
            " [13.83 13.1 ]\n",
            " [23.91 24.2 ]\n",
            " [18.36 19.9 ]\n",
            " [27.06 24.  ]\n",
            " [19.88 18.9 ]\n",
            " [34.55 35.4 ]\n",
            " [15.9  15.2 ]\n",
            " [26.54 26.5 ]\n",
            " [40.03 43.5 ]\n",
            " [21.75 21.2 ]\n",
            " [17.64 18.4 ]\n",
            " [31.71 28.5 ]\n",
            " [23.   23.9 ]\n",
            " [18.64 18.5 ]\n",
            " [25.93 25.  ]\n",
            " [35.34 35.4 ]\n",
            " [25.97 31.5 ]\n",
            " [18.98 20.2 ]\n",
            " [24.61 24.1 ]\n",
            " [18.95 20.  ]\n",
            " [12.94 13.1 ]\n",
            " [24.18 24.8 ]\n",
            " [30.14 30.8 ]\n",
            " [13.49 12.7 ]\n",
            " [20.8  20.  ]\n",
            " [28.68 23.7 ]\n",
            " [11.15 10.8 ]\n",
            " [21.95 20.6 ]\n",
            " [21.07 20.8 ]\n",
            " [ 5.57  5.  ]\n",
            " [19.69 20.1 ]\n",
            " [46.32 48.5 ]\n",
            " [10.62 10.9 ]\n",
            " [ 8.51  7.  ]\n",
            " [20.41 20.9 ]\n",
            " [12.22 17.2 ]\n",
            " [20.88 20.9 ]\n",
            " [ 9.23  9.7 ]\n",
            " [19.56 19.4 ]\n",
            " [26.54 29.  ]\n",
            " [15.83 16.4 ]\n",
            " [24.25 25.  ]\n",
            " [24.77 25.  ]\n",
            " [18.56 17.1 ]\n",
            " [21.74 23.2 ]\n",
            " [ 7.61 10.4 ]\n",
            " [19.3  19.6 ]\n",
            " [19.   17.2 ]\n",
            " [30.59 27.5 ]\n",
            " [19.47 23.  ]\n",
            " [24.74 50.  ]\n",
            " [15.67 17.9 ]\n",
            " [13.3   9.6 ]\n",
            " [14.33 17.2 ]\n",
            " [21.75 22.5 ]\n",
            " [22.06 21.4 ]]\n"
          ]
        }
      ]
    },
    {
      "cell_type": "code",
      "source": [
        "from sklearn.metrics import mean_absolute_error, r2_score # Import regression metrics\n",
        "print(\"MAE:\", mean_absolute_error(y_test, y_pred))\n",
        "print(\"R² Score:\", r2_score(y_test, y_pred))"
      ],
      "metadata": {
        "colab": {
          "base_uri": "https://localhost:8080/"
        },
        "id": "4AT5vhihKl2V",
        "outputId": "9caa8105-9f3a-4d23-f72e-7f7fee511b53"
      },
      "execution_count": 62,
      "outputs": [
        {
          "output_type": "stream",
          "name": "stdout",
          "text": [
            "MAE: 1.7112745098039206\n",
            "R² Score: 0.8474762698058317\n"
          ]
        }
      ]
    },
    {
      "cell_type": "code",
      "source": [
        "import seaborn as sns\n",
        "import matplotlib.pyplot as plt\n",
        "\n",
        "# ---- Pick 3 samples ----\n",
        "sample_indices = [0, 1, 2]\n",
        "# Use NumPy indexing instead of .iloc\n",
        "sample_preds = regressor.predict(x_test[sample_indices])\n",
        "sample_actuals = y_test[sample_indices]\n",
        "\n",
        "# ---- Feature importances ----\n",
        "feat_importances = pd.Series(\n",
        "    regressor.feature_importances_,\n",
        "    index=feature_names # Use feature_names from previous cell\n",
        ").sort_values(ascending=False)\n",
        "\n",
        "# ---- Create side-by-side plots ----\n",
        "fig, axes = plt.subplots(1, 2, figsize=(14,6))\n",
        "\n",
        "# Left: Predictions vs Actuals\n",
        "axes[0].bar(range(len(sample_preds)), sample_actuals, width=0.4, label=\"Actual\", align=\"edge\")\n",
        "axes[0].bar([i+0.4 for i in range(len(sample_preds))], sample_preds, width=0.4, label=\"Predicted\", align=\"edge\")\n",
        "axes[0].set_xticks([0.2, 1.2, 2.2])\n",
        "axes[0].set_xticklabels([f\"Sample {i}\" for i in sample_indices])\n",
        "axes[0].set_ylabel(\"Median Price\")\n",
        "axes[0].set_title(\"Predicted vs Actual Values (3 Samples)\")\n",
        "axes[0].legend()\n",
        "\n",
        "# Right: Feature Importances\n",
        "sns.barplot(x=feat_importances.values, y=feat_importances.index, ax=axes[1], palette=\"viridis\")\n",
        "axes[1].set_title(\"Feature Importances from Random Forest\")\n",
        "axes[1].set_xlabel(\"Importance Score\")\n",
        "axes[1].set_ylabel(\"Features\")\n",
        "\n",
        "plt.tight_layout()\n",
        "plt.show()"
      ],
      "metadata": {
        "colab": {
          "base_uri": "https://localhost:8080/",
          "height": 650
        },
        "id": "GMMQGPv_PF7q",
        "outputId": "a0a2cd0b-401f-4ef7-edda-80d44b7e95a4"
      },
      "execution_count": 67,
      "outputs": [
        {
          "output_type": "stream",
          "name": "stderr",
          "text": [
            "/tmp/ipython-input-123361268.py:29: FutureWarning: \n",
            "\n",
            "Passing `palette` without assigning `hue` is deprecated and will be removed in v0.14.0. Assign the `y` variable to `hue` and set `legend=False` for the same effect.\n",
            "\n",
            "  sns.barplot(x=feat_importances.values, y=feat_importances.index, ax=axes[1], palette=\"viridis\")\n"
          ]
        },
        {
          "output_type": "display_data",
          "data": {
            "text/plain": [
              "<Figure size 1400x600 with 2 Axes>"
            ],
            "image/png": "[encoded data removed]"
          },
          "metadata": {}
        }
      ]
    }
  ]
}